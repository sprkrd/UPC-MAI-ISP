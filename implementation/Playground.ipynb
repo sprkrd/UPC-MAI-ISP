{
 "cells": [
  {
   "cell_type": "code",
   "execution_count": null,
   "metadata": {},
   "outputs": [],
   "source": [
    "import torch\n",
    "import torch.nn as nn\n",
    "import torch.optim as optim\n",
    "import torch.backends.cudnn as cudnn\n",
    "from torch.autograd import Variable\n",
    "from torch.utils.data import DataLoader\n",
    "from torchvision import transforms\n",
    "\n",
    "from data.EuroNotes import EuroNotes\n",
    "\n",
    "from models.BasicCNN import BasicCNN\n",
    "\n",
    "import numpy as np\n",
    "\n",
    "import time\n",
    "\n",
    "%matplotlib inline\n",
    "from matplotlib import pyplot as plt\n",
    "import matplotlib.image as mpimg"
   ]
  },
  {
   "cell_type": "code",
   "execution_count": null,
   "metadata": {},
   "outputs": [],
   "source": [
    "means = np.array([ 0.14588552,  0.26887908,  0.14538361])\n",
    "stds = np.array([ 0.20122388,  0.2800698 ,  0.20029236])\n",
    "\n",
    "transformations = transforms.Compose([transforms.ToPILImage(), transforms.RandomCrop([256, 256]), transforms.ToTensor(), transforms.Normalize(means, stds)])\n",
    "\n",
    "train_set = EuroNotes('../data-augmentation/banknotes_augmented/train', transform=transformations)\n",
    "\n",
    "train_loader = DataLoader(train_set, batch_size=1, shuffle=True, num_workers=1)"
   ]
  },
  {
   "cell_type": "code",
   "execution_count": null,
   "metadata": {},
   "outputs": [],
   "source": [
    "for i_batch, sample_batched in enumerate(train_loader):\n",
    "    \n",
    "    images = sample_batched['image']\n",
    "    \n",
    "    img1 = images[0,0,:,:].numpy()\n",
    "    img2 = images[0,1,:,:].numpy()\n",
    "    img3 = images[0,2,:,:].numpy()\n",
    "    img4 = img1 - img2\n",
    "    \n",
    "    break\n",
    "\n",
    "print(img1.shape)\n",
    "plt.imshow(img1)\n",
    "plt.show()\n",
    "plt.imshow(img2)\n",
    "plt.show()\n",
    "plt.imshow(img3)\n",
    "plt.show()\n",
    "plt.imshow(img4)\n",
    "plt.show()\n",
    "\n",
    "\n"
   ]
  },
  {
   "cell_type": "code",
   "execution_count": null,
   "metadata": {
    "collapsed": true
   },
   "outputs": [],
   "source": []
  },
  {
   "cell_type": "code",
   "execution_count": null,
   "metadata": {
    "collapsed": true
   },
   "outputs": [],
   "source": []
  }
 ],
 "metadata": {
  "kernelspec": {
   "display_name": "Python [default]",
   "language": "python",
   "name": "python2"
  },
  "language_info": {
   "codemirror_mode": {
    "name": "ipython",
    "version": 2
   },
   "file_extension": ".py",
   "mimetype": "text/x-python",
   "name": "python",
   "nbconvert_exporter": "python",
   "pygments_lexer": "ipython2",
   "version": "2.7.13"
  }
 },
 "nbformat": 4,
 "nbformat_minor": 2
}
