{
 "cells": [
  {
   "cell_type": "code",
   "execution_count": 1,
   "metadata": {
    "collapsed": true
   },
   "outputs": [],
   "source": [
    "import torch\n",
    "import torch.nn as nn\n",
    "import torch.optim as optim\n",
    "import torch.backends.cudnn as cudnn\n",
    "from torch.autograd import Variable\n",
    "from torch.utils.data import DataLoader\n",
    "from torchvision import transforms\n",
    "import torchvision\n",
    "\n",
    "\n",
    "import numpy as np\n",
    "import matplotlib.pyplot as plt\n",
    "\n",
    "from data.EuroNotes import EuroNotes\n",
    "from models.ResNet18 import pretrained_res18"
   ]
  },
  {
   "cell_type": "code",
   "execution_count": 2,
   "metadata": {},
   "outputs": [
    {
     "name": "stdout",
     "output_type": "stream",
     "text": [
      "Loading base classifier model and robust model\n",
      "Loaded\n"
     ]
    }
   ],
   "source": [
    "# # # # # # # # # # # # # # # #\n",
    "# Load Classifier Models\n",
    "# # # # # # # # # # # # # # # #\n",
    "\n",
    "\n",
    "print('Loading base classifier model and robust model')\n",
    "model_base = pretrained_res18()\n",
    "model_robust = pretrained_res18()\n",
    "print('Loaded')"
   ]
  },
  {
   "cell_type": "code",
   "execution_count": 3,
   "metadata": {},
   "outputs": [],
   "source": [
    "means = np.array([ 0.14588552,  0.26887908,  0.14538361])\n",
    "stds = np.array([ 0.20122388,  0.2800698 ,  0.20029236])\n",
    "transformations = transforms.Compose([transforms.ToTensor(), transforms.Normalize(means, stds)])\n",
    "\n",
    "train_set = EuroNotes('../data-augmentation/banknotes_augmented/train', transform=transformations, resize=False)\n",
    "val_set = EuroNotes('../data-augmentation/banknotes_augmented/val', transform=transformations, resize=False)\n",
    "\n",
    "train_loader = DataLoader(train_set, batch_size=25, shuffle=True, num_workers=16)\n",
    "val_loader = DataLoader(val_set, batch_size=25, shuffle=True, num_workers=16)"
   ]
  },
  {
   "cell_type": "code",
   "execution_count": 4,
   "metadata": {},
   "outputs": [
    {
     "name": "stdout",
     "output_type": "stream",
     "text": [
      "torch.Size([25, 3, 256, 256])\n",
      "<class 'torch.autograd.variable.Variable'>\n",
      "Variable containing:\n",
      " -8.8892 -12.9246 -12.4907  12.0369\n",
      "-15.2968  21.3529 -16.6540 -25.3030\n",
      "-10.7494 -10.8634 -10.9365  14.2068\n",
      "[torch.FloatTensor of size 3x4]\n",
      "\n",
      "torch.Size([25, 3, 256, 256])\n",
      "<class 'torch.autograd.variable.Variable'>\n",
      "Variable containing:\n",
      "-12.5420  14.8742 -14.8526 -12.5986\n",
      "-15.7929 -14.9017  22.5197 -16.9204\n",
      " 14.5632 -12.3667 -11.7706 -14.2410\n",
      "[torch.FloatTensor of size 3x4]\n",
      "\n",
      "torch.Size([25, 3, 256, 256])\n",
      "<class 'torch.autograd.variable.Variable'>\n",
      "Variable containing:\n",
      "-13.0031  11.1113 -10.3556 -12.0493\n",
      " 11.6338  -9.5876  -8.5825 -14.3612\n",
      " -8.1341  -6.4036 -10.4267   7.5136\n",
      "[torch.FloatTensor of size 3x4]\n",
      "\n",
      "torch.Size([25, 3, 256, 256])\n",
      "<class 'torch.autograd.variable.Variable'>\n",
      "Variable containing:\n",
      " -7.1234 -10.9897  10.5409 -12.3497\n",
      "-13.9428 -14.5478 -16.0937  18.7252\n",
      "-11.7195 -20.2678  26.6282 -22.1263\n",
      "[torch.FloatTensor of size 3x4]\n",
      "\n"
     ]
    }
   ],
   "source": [
    "import matplotlib.gridspec as gridspec\n",
    "\n",
    "gs = gridspec.GridSpec(2, 2)\n",
    "plt.figure(figsize=(20,10))\n",
    "\n",
    "for i_batch, data in enumerate(train_loader):\n",
    "    if i_batch > 3:\n",
    "        break\n",
    "    images = Variable(data['image'])\n",
    "    print(images.shape)\n",
    "    print(type(images))\n",
    "    preds = model_base(images)\n",
    "    print(preds[:3, :])\n",
    "#     plt.title(i_batch)\n",
    "#     im = images[1, :, :, :].data.numpy() * stds.reshape((3, 1, 1))\n",
    "    \n",
    "#     im = im + means.reshape((3, 1, 1))\n",
    "#     im = im.astype(float)\n",
    "#     im = im.astype(float)\n",
    "#     im -= np.min(im)\n",
    "#     im /= np.max(im)\n",
    "#     im = np.swapaxes(np.swapaxes(im, 0, 2).reshape((256, 256, 3)), 0, 1)\n",
    "#     ax = plt.subplot(gs[int(i_batch/2), i_batch % 2])\n",
    "#     plt.imshow(im)\n",
    "# plt.show()\n",
    "    "
   ]
  },
  {
   "cell_type": "code",
   "execution_count": 5,
   "metadata": {},
   "outputs": [],
   "source": [
    "from attackers.BlackBoxAttacker import GANAttack"
   ]
  },
  {
   "cell_type": "code",
   "execution_count": 6,
   "metadata": {},
   "outputs": [
    {
     "name": "stdout",
     "output_type": "stream",
     "text": [
      "Loading pre-trained GANAttack\n"
     ]
    }
   ],
   "source": [
    "ganatt = GANAttack((3, 256, 256), 0.01)"
   ]
  },
  {
   "cell_type": "code",
   "execution_count": 7,
   "metadata": {},
   "outputs": [
    {
     "data": {
      "text/plain": [
       "torch.Size([25, 3, 256, 256])"
      ]
     },
     "execution_count": 7,
     "metadata": {},
     "output_type": "execute_result"
    }
   ],
   "source": [
    "images.shape"
   ]
  },
  {
   "cell_type": "code",
   "execution_count": 8,
   "metadata": {},
   "outputs": [
    {
     "name": "stdout",
     "output_type": "stream",
     "text": [
      "torch.Size([25, 4])\n"
     ]
    }
   ],
   "source": [
    "preds = model_base(images)\n",
    "print(preds.shape)"
   ]
  },
  {
   "cell_type": "code",
   "execution_count": null,
   "metadata": {},
   "outputs": [],
   "source": []
  },
  {
   "cell_type": "code",
   "execution_count": 9,
   "metadata": {},
   "outputs": [
    {
     "data": {
      "text/plain": [
       "array([[-0.23771642, -0.09131742],\n",
       "       [-0.29995057, -0.20065749],\n",
       "       [-0.25190148, -0.07366671]])"
      ]
     },
     "execution_count": 9,
     "metadata": {},
     "output_type": "execute_result"
    }
   ],
   "source": [
    "np.random.uniform(-1, 0.1, (3, 2))"
   ]
  },
  {
   "cell_type": "code",
   "execution_count": null,
   "metadata": {},
   "outputs": [],
   "source": []
  },
  {
   "cell_type": "code",
   "execution_count": null,
   "metadata": {
    "collapsed": true
   },
   "outputs": [],
   "source": []
  }
 ],
 "metadata": {
  "kernelspec": {
   "display_name": "Python [default]",
   "language": "python",
   "name": "python2"
  },
  "language_info": {
   "codemirror_mode": {
    "name": "ipython",
    "version": 2
   },
   "file_extension": ".py",
   "mimetype": "text/x-python",
   "name": "python",
   "nbconvert_exporter": "python",
   "pygments_lexer": "ipython2",
   "version": "2.7.13"
  }
 },
 "nbformat": 4,
 "nbformat_minor": 2
}
